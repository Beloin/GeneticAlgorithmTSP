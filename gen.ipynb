{
 "cells": [
  {
   "cell_type": "markdown",
   "source": [
    "# Genetic Algorithm\n",
    "\n",
    "Natural Selection based.\n",
    "\n",
    "Initial Population -> Fitness Function -> Selection -> Crossover -> Mutation "
   ],
   "metadata": {
    "collapsed": false
   },
   "id": "36877373970a8688"
  },
  {
   "cell_type": "code",
   "execution_count": 7,
   "id": "initial_id",
   "metadata": {
    "collapsed": true,
    "ExecuteTime": {
     "end_time": "2023-09-09T23:51:53.364758077Z",
     "start_time": "2023-09-09T23:51:53.319109661Z"
    }
   },
   "outputs": [],
   "source": [
    "cities = [\n",
    "    'F',  # \"Fortaleza\",\n",
    "    'C',  # \"Caucaia\",\n",
    "    'J',  # \"Juazeiro do Norte\",\n",
    "    'M'  # \"Maracanaú\"\n",
    "]\n",
    "costs = [\n",
    "    [0, 10, 100, 50],\n",
    "    [10, 0, 20, 20],\n",
    "    [100, 20, 0, 10],\n",
    "    [50, 20, 10, 0]\n",
    "]\n",
    "\n",
    "# Idea: F -> C -> J -> M -> F"
   ]
  },
  {
   "cell_type": "code",
   "execution_count": 8,
   "outputs": [],
   "source": [
    "# Since we will always be back to initial state, doesn't seem smart to set start state inside the DNA  \n",
    "dna = \"123\"  # == C J M"
   ],
   "metadata": {
    "collapsed": false,
    "ExecuteTime": {
     "end_time": "2023-09-09T23:51:54.256871709Z",
     "start_time": "2023-09-09T23:51:54.252718921Z"
    }
   },
   "id": "34aa465db7e58fa3"
  },
  {
   "cell_type": "code",
   "execution_count": 9,
   "outputs": [],
   "source": [
    "gene_example = \"132\"  # = CMJ\n",
    "best_gene = \"123\""
   ],
   "metadata": {
    "collapsed": false,
    "ExecuteTime": {
     "end_time": "2023-09-09T23:51:55.151332203Z",
     "start_time": "2023-09-09T23:51:55.143967311Z"
    }
   },
   "id": "f59da6c93cb8e439"
  },
  {
   "cell_type": "code",
   "execution_count": 11,
   "outputs": [],
   "source": [
    "def fitness(gene: str):\n",
    "    cost = 0\n",
    "    prev = 0\n",
    "    for dna in gene:\n",
    "        next = int(dna)\n",
    "        cost += costs[prev][next]\n",
    "        prev = dna"
   ],
   "metadata": {
    "collapsed": false,
    "ExecuteTime": {
     "end_time": "2023-09-10T01:53:28.800169820Z",
     "start_time": "2023-09-10T01:53:28.751376595Z"
    }
   },
   "id": "eb3ed10a7348501"
  },
  {
   "cell_type": "code",
   "execution_count": null,
   "outputs": [],
   "source": [],
   "metadata": {
    "collapsed": false
   },
   "id": "623ca97f24b5ec1c"
  }
 ],
 "metadata": {
  "kernelspec": {
   "display_name": "Python 3",
   "language": "python",
   "name": "python3"
  },
  "language_info": {
   "codemirror_mode": {
    "name": "ipython",
    "version": 2
   },
   "file_extension": ".py",
   "mimetype": "text/x-python",
   "name": "python",
   "nbconvert_exporter": "python",
   "pygments_lexer": "ipython2",
   "version": "2.7.6"
  }
 },
 "nbformat": 4,
 "nbformat_minor": 5
}
