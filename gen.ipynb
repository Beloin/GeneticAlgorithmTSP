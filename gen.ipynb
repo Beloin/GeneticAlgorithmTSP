{
 "cells": [
  {
   "cell_type": "markdown",
   "source": [
    "            # Genetic Algorithm\n",
    "\n",
    "Natural Selection based.\n",
    "\n",
    "Initial Population -> Fitness Function -> Selection -> Crossover -> Mutation \n",
    "\n",
    "https://levelup.gitconnected.com/how-to-implement-a-traveling-salesman-problem-genetic-algorithm-in-python-ea32c7bef20f"
   ],
   "metadata": {
    "collapsed": false
   },
   "id": "36877373970a8688"
  },
  {
   "cell_type": "code",
   "execution_count": 1,
   "outputs": [],
   "source": [
    "import random"
   ],
   "metadata": {
    "collapsed": false,
    "ExecuteTime": {
     "end_time": "2023-09-23T01:37:15.163286831Z",
     "start_time": "2023-09-23T01:37:15.152358185Z"
    }
   },
   "id": "b8d452a02196796d"
  },
  {
   "cell_type": "code",
   "execution_count": 2,
   "id": "initial_id",
   "metadata": {
    "collapsed": true,
    "ExecuteTime": {
     "end_time": "2023-09-23T01:37:15.163575282Z",
     "start_time": "2023-09-23T01:37:15.152525599Z"
    }
   },
   "outputs": [],
   "source": [
    "cities = [\n",
    "    'F',  # \"Fortaleza\",\n",
    "    'C',  # \"Caucaia\",\n",
    "    'J',  # \"Juazeiro do Norte\",\n",
    "    'M',  # \"Maracanaú\"\n",
    "    'S'  # \"SOBRAL\"\n",
    "]\n",
    "costs = [\n",
    "    [0, 10, 100, 50, 23],\n",
    "    [10, 0, 20, 20, 12],\n",
    "    [100, 20, 0, 10, 50],\n",
    "    [50, 20, 10, 0, 17],\n",
    "    [23, 12, 50, 17, 0]\n",
    "] # (0)3412(0) = 50 + 17 + 12+ 20 +10    \n",
    "\n",
    "# Idea: F -> C -> J -> M -> F"
   ]
  },
  {
   "cell_type": "code",
   "execution_count": 3,
   "outputs": [],
   "source": [
    "# Since we will always be back to initial state, doesn't seem smart to set start state inside the DNA  \n",
    "bases = \"1234\"  # == C J M S"
   ],
   "metadata": {
    "collapsed": false,
    "ExecuteTime": {
     "end_time": "2023-09-23T01:37:15.163728739Z",
     "start_time": "2023-09-23T01:37:15.152633021Z"
    }
   },
   "id": "34aa465db7e58fa3"
  },
  {
   "cell_type": "code",
   "execution_count": 4,
   "outputs": [],
   "source": [
    "chromosome_example = \"1342\"  # = CMJ"
   ],
   "metadata": {
    "collapsed": false,
    "ExecuteTime": {
     "end_time": "2023-09-23T01:37:15.163878750Z",
     "start_time": "2023-09-23T01:37:15.152723540Z"
    }
   },
   "id": "f59da6c93cb8e439"
  },
  {
   "cell_type": "code",
   "execution_count": 5,
   "outputs": [],
   "source": [
    "def convert_chromosome(chromosome):\n",
    "    if type(chromosome) is str:\n",
    "        return list(chromosome)\n",
    "    return ''.join(chromosome)"
   ],
   "metadata": {
    "collapsed": false,
    "ExecuteTime": {
     "end_time": "2023-09-23T01:37:15.164024484Z",
     "start_time": "2023-09-23T01:37:15.152832915Z"
    }
   },
   "id": "78a1f450be455429"
  },
  {
   "cell_type": "code",
   "execution_count": 6,
   "outputs": [],
   "source": [
    "def fitness(chromosome: str, invert=False) -> int:\n",
    "    cost = 0\n",
    "    prev = 0\n",
    "    for dna in chromosome:\n",
    "        n = int(dna)\n",
    "        cost += costs[prev][n]\n",
    "        prev = n\n",
    "\n",
    "    total_cost = (costs[0][int(chromosome[0])] + cost + \n",
    "                  costs[int(chromosome[len(chromosome) - 1])][0])\n",
    "    return total_cost if invert is False else -total_cost"
   ],
   "metadata": {
    "collapsed": false,
    "ExecuteTime": {
     "end_time": "2023-09-23T01:37:15.171739285Z",
     "start_time": "2023-09-23T01:37:15.161926982Z"
    }
   },
   "id": "eb3ed10a7348501"
  },
  {
   "cell_type": "code",
   "execution_count": 7,
   "outputs": [],
   "source": [
    "random_gen = random.Random(1)\n",
    "\n",
    "\n",
    "def genesis(n: int) -> list[str]:\n",
    "    pop = []\n",
    "    for _ in range(n):\n",
    "        dna = random_gen.sample(bases, len(bases))\n",
    "        pop.append(convert_chromosome(dna))\n",
    "\n",
    "    return pop"
   ],
   "metadata": {
    "collapsed": false,
    "ExecuteTime": {
     "end_time": "2023-09-23T01:37:15.182229709Z",
     "start_time": "2023-09-23T01:37:15.175531724Z"
    }
   },
   "id": "623ca97f24b5ec1c"
  },
  {
   "cell_type": "code",
   "execution_count": 8,
   "outputs": [],
   "source": [
    "def progenitor_selection(population_set: list[str], choice_p=.2) -> list[tuple[str, str]]:\n",
    "    progenitors = []\n",
    "    valuable_progenitors = []\n",
    "    for gene in population_set:\n",
    "        v = fitness(gene)\n",
    "        valuable_progenitors.append((gene, v))\n",
    "\n",
    "    sorted_values = sorted(valuable_progenitors, key=lambda x: x[1])\n",
    "    random_gen.randint(0, len(sorted_values) - 1)\n",
    "\n",
    "    for index, (gene, fit) in enumerate(sorted_values):\n",
    "\n",
    "        one = random_gen.random() > choice_p\n",
    "\n",
    "        if index == len(sorted_values) - 1:\n",
    "            progenitors.append((gene, 0 if one else random_gen.randint(index, len(sorted_values) - 1)))\n",
    "            continue\n",
    "\n",
    "        progenitors.append(\n",
    "            (gene, sorted_values[(index + 1) if one else random_gen.randint(index, len(sorted_values) - 1)])\n",
    "        )\n",
    "\n",
    "    return progenitors"
   ],
   "metadata": {
    "collapsed": false,
    "ExecuteTime": {
     "end_time": "2023-09-23T01:37:15.239258150Z",
     "start_time": "2023-09-23T01:37:15.191850263Z"
    }
   },
   "id": "c53ef9c47e131d52"
  },
  {
   "cell_type": "code",
   "execution_count": 9,
   "outputs": [],
   "source": [
    "def mate_progenitors(progenitors: tuple[str, str], mate=.5):\n",
    "    dad, mom = progenitors\n",
    "    finish = int(mate * len(dad))\n",
    "    son = dad[:finish]\n",
    "\n",
    "    to_create = len(dad) - finish\n",
    "    mom_copy = mom[:]\n",
    "    mom_copy.reverse()\n",
    "    for gene in mom_copy:\n",
    "        if gene not in son:\n",
    "            son[finish] = gene\n",
    "            finish += 1\n",
    "\n",
    "        if finish == to_create:\n",
    "            break\n",
    "\n",
    "    return son\n"
   ],
   "metadata": {
    "collapsed": false,
    "ExecuteTime": {
     "end_time": "2023-09-23T01:37:15.239528366Z",
     "start_time": "2023-09-23T01:37:15.239125842Z"
    }
   },
   "id": "ad3bf5e8c2d36bfa"
  },
  {
   "cell_type": "code",
   "execution_count": 10,
   "outputs": [],
   "source": [
    "def mutate(cromo: str, mp=.1):\n",
    "    chromo2 = convert_chromosome(cromo)\n",
    "    while random_gen.random() > mp:\n",
    "        a = random_gen.randint(0, len(chromo2) - 1)\n",
    "        b = random_gen.randint(0, len(chromo2) - 1)\n",
    "        chromo2[a], chromo2[b] = chromo2[b], chromo2[a]\n",
    "\n",
    "    return convert_chromosome(chromo2)"
   ],
   "metadata": {
    "collapsed": false,
    "ExecuteTime": {
     "end_time": "2023-09-23T01:37:15.240190638Z",
     "start_time": "2023-09-23T01:37:15.239387262Z"
    }
   },
   "id": "bb42779b69e7ad66"
  },
  {
   "cell_type": "code",
   "execution_count": 14,
   "outputs": [
    {
     "ename": "KeyboardInterrupt",
     "evalue": "",
     "output_type": "error",
     "traceback": [
      "\u001B[0;31m---------------------------------------------------------------------------\u001B[0m",
      "\u001B[0;31mKeyboardInterrupt\u001B[0m                         Traceback (most recent call last)",
      "Cell \u001B[0;32mIn[14], line 10\u001B[0m\n\u001B[1;32m      8\u001B[0m \u001B[38;5;28;01mfor\u001B[39;00m chromo \u001B[38;5;129;01min\u001B[39;00m parents:\n\u001B[1;32m      9\u001B[0m     v \u001B[38;5;241m=\u001B[39m fitness(chromo)\n\u001B[0;32m---> 10\u001B[0m     heappush(heap, (v, chromo))\n\u001B[1;32m     12\u001B[0m selection \u001B[38;5;241m=\u001B[39m progenitor_selection(parents)\n\u001B[1;32m     14\u001B[0m parents \u001B[38;5;241m=\u001B[39m []\n",
      "Cell \u001B[0;32mIn[14], line 10\u001B[0m\n\u001B[1;32m      8\u001B[0m \u001B[38;5;28;01mfor\u001B[39;00m chromo \u001B[38;5;129;01min\u001B[39;00m parents:\n\u001B[1;32m      9\u001B[0m     v \u001B[38;5;241m=\u001B[39m fitness(chromo)\n\u001B[0;32m---> 10\u001B[0m     heappush(heap, (v, chromo))\n\u001B[1;32m     12\u001B[0m selection \u001B[38;5;241m=\u001B[39m progenitor_selection(parents)\n\u001B[1;32m     14\u001B[0m parents \u001B[38;5;241m=\u001B[39m []\n",
      "File \u001B[0;32m~/pycharm-2023.2/plugins/python/helpers/pydev/_pydevd_bundle/pydevd_frame.py:880\u001B[0m, in \u001B[0;36mPyDBFrame.trace_dispatch\u001B[0;34m(self, frame, event, arg)\u001B[0m\n\u001B[1;32m    877\u001B[0m             stop \u001B[38;5;241m=\u001B[39m \u001B[38;5;28;01mFalse\u001B[39;00m\n\u001B[1;32m    879\u001B[0m \u001B[38;5;28;01mif\u001B[39;00m plugin_stop:\n\u001B[0;32m--> 880\u001B[0m     stopped_on_plugin \u001B[38;5;241m=\u001B[39m \u001B[43mplugin_manager\u001B[49m\u001B[38;5;241;43m.\u001B[39;49m\u001B[43mstop\u001B[49m\u001B[43m(\u001B[49m\u001B[43mmain_debugger\u001B[49m\u001B[43m,\u001B[49m\u001B[43m \u001B[49m\u001B[43mframe\u001B[49m\u001B[43m,\u001B[49m\u001B[43m \u001B[49m\u001B[43mevent\u001B[49m\u001B[43m,\u001B[49m\u001B[43m \u001B[49m\u001B[38;5;28;43mself\u001B[39;49m\u001B[38;5;241;43m.\u001B[39;49m\u001B[43m_args\u001B[49m\u001B[43m,\u001B[49m\u001B[43m \u001B[49m\u001B[43mstop_info\u001B[49m\u001B[43m,\u001B[49m\u001B[43m \u001B[49m\u001B[43marg\u001B[49m\u001B[43m,\u001B[49m\u001B[43m \u001B[49m\u001B[43mstep_cmd\u001B[49m\u001B[43m)\u001B[49m\n\u001B[1;32m    881\u001B[0m \u001B[38;5;28;01melif\u001B[39;00m stop:\n\u001B[1;32m    882\u001B[0m     \u001B[38;5;28;01mif\u001B[39;00m is_line:\n",
      "File \u001B[0;32m~/pycharm-2023.2/plugins/python/helpers-pro/jupyter_debug/pydev_jupyter_plugin.py:169\u001B[0m, in \u001B[0;36mstop\u001B[0;34m(plugin, pydb, frame, event, args, stop_info, arg, step_cmd)\u001B[0m\n\u001B[1;32m    167\u001B[0m     frame \u001B[38;5;241m=\u001B[39m suspend_jupyter(main_debugger, thread, frame, step_cmd)\n\u001B[1;32m    168\u001B[0m     \u001B[38;5;28;01mif\u001B[39;00m frame:\n\u001B[0;32m--> 169\u001B[0m         \u001B[43mmain_debugger\u001B[49m\u001B[38;5;241;43m.\u001B[39;49m\u001B[43mdo_wait_suspend\u001B[49m\u001B[43m(\u001B[49m\u001B[43mthread\u001B[49m\u001B[43m,\u001B[49m\u001B[43m \u001B[49m\u001B[43mframe\u001B[49m\u001B[43m,\u001B[49m\u001B[43m \u001B[49m\u001B[43mevent\u001B[49m\u001B[43m,\u001B[49m\u001B[43m \u001B[49m\u001B[43marg\u001B[49m\u001B[43m)\u001B[49m\n\u001B[1;32m    170\u001B[0m         \u001B[38;5;28;01mreturn\u001B[39;00m \u001B[38;5;28;01mTrue\u001B[39;00m\n\u001B[1;32m    171\u001B[0m \u001B[38;5;28;01mreturn\u001B[39;00m \u001B[38;5;28;01mFalse\u001B[39;00m\n",
      "File \u001B[0;32m~/pycharm-2023.2/plugins/python/helpers/pydev/pydevd.py:1160\u001B[0m, in \u001B[0;36mPyDB.do_wait_suspend\u001B[0;34m(self, thread, frame, event, arg, send_suspend_message, is_unhandled_exception)\u001B[0m\n\u001B[1;32m   1157\u001B[0m         from_this_thread\u001B[38;5;241m.\u001B[39mappend(frame_id)\n\u001B[1;32m   1159\u001B[0m \u001B[38;5;28;01mwith\u001B[39;00m \u001B[38;5;28mself\u001B[39m\u001B[38;5;241m.\u001B[39m_threads_suspended_single_notification\u001B[38;5;241m.\u001B[39mnotify_thread_suspended(thread_id, stop_reason):\n\u001B[0;32m-> 1160\u001B[0m     \u001B[38;5;28;43mself\u001B[39;49m\u001B[38;5;241;43m.\u001B[39;49m\u001B[43m_do_wait_suspend\u001B[49m\u001B[43m(\u001B[49m\u001B[43mthread\u001B[49m\u001B[43m,\u001B[49m\u001B[43m \u001B[49m\u001B[43mframe\u001B[49m\u001B[43m,\u001B[49m\u001B[43m \u001B[49m\u001B[43mevent\u001B[49m\u001B[43m,\u001B[49m\u001B[43m \u001B[49m\u001B[43marg\u001B[49m\u001B[43m,\u001B[49m\u001B[43m \u001B[49m\u001B[43msuspend_type\u001B[49m\u001B[43m,\u001B[49m\u001B[43m \u001B[49m\u001B[43mfrom_this_thread\u001B[49m\u001B[43m)\u001B[49m\n",
      "File \u001B[0;32m~/pycharm-2023.2/plugins/python/helpers/pydev/pydevd.py:1175\u001B[0m, in \u001B[0;36mPyDB._do_wait_suspend\u001B[0;34m(self, thread, frame, event, arg, suspend_type, from_this_thread)\u001B[0m\n\u001B[1;32m   1172\u001B[0m             \u001B[38;5;28mself\u001B[39m\u001B[38;5;241m.\u001B[39m_call_mpl_hook()\n\u001B[1;32m   1174\u001B[0m         \u001B[38;5;28mself\u001B[39m\u001B[38;5;241m.\u001B[39mprocess_internal_commands()\n\u001B[0;32m-> 1175\u001B[0m         time\u001B[38;5;241m.\u001B[39msleep(\u001B[38;5;241m0.01\u001B[39m)\n\u001B[1;32m   1177\u001B[0m \u001B[38;5;28mself\u001B[39m\u001B[38;5;241m.\u001B[39mcancel_async_evaluation(get_current_thread_id(thread), \u001B[38;5;28mstr\u001B[39m(\u001B[38;5;28mid\u001B[39m(frame)))\n\u001B[1;32m   1179\u001B[0m \u001B[38;5;66;03m# process any stepping instructions\u001B[39;00m\n",
      "\u001B[0;31mKeyboardInterrupt\u001B[0m: "
     ]
    }
   ],
   "source": [
    "from heapq import heappush, heappop\n",
    "\n",
    "heap = []\n",
    "\n",
    "\n",
    "parents = genesis(10)\n",
    "\n",
    "for chromo in parents:\n",
    "    v = fitness(chromo)\n",
    "    heappush(heap, (v, chromo))\n",
    "    \n",
    "selection = progenitor_selection(parents)\n",
    "\n",
    "parents = []\n",
    "for mate in selection:\n",
    "    son = mate_progenitors(mate)\n",
    "    son = mutate(son)\n",
    "    parents.append(son)\n",
    "\n",
    "for chromo in parents:\n",
    "    v = fitness(chromo)\n",
    "    heappush(heap, (v, chromo))\n",
    "\n",
    "# for chromo in range(100):\n",
    "#     # if i%100==0: print(i, fitnes_list.min(), fitnes_list.mean(), datetime.now().strftime(\"%d/%m/%y %H:%M\"))\n",
    "#     \n",
    "#     \n",
    "#     heappush(heap, )    "
   ],
   "metadata": {
    "collapsed": false,
    "ExecuteTime": {
     "end_time": "2023-09-23T01:45:09.157338422Z",
     "start_time": "2023-09-23T01:42:14.916704544Z"
    }
   },
   "id": "8058e06f21664fbb"
  },
  {
   "cell_type": "code",
   "execution_count": null,
   "outputs": [],
   "source": [],
   "metadata": {
    "collapsed": false,
    "ExecuteTime": {
     "start_time": "2023-09-23T01:37:15.446669665Z"
    }
   },
   "id": "83cb5d32c7556524"
  }
 ],
 "metadata": {
  "kernelspec": {
   "display_name": "Python 3",
   "language": "python",
   "name": "python3"
  },
  "language_info": {
   "codemirror_mode": {
    "name": "ipython",
    "version": 2
   },
   "file_extension": ".py",
   "mimetype": "text/x-python",
   "name": "python",
   "nbconvert_exporter": "python",
   "pygments_lexer": "ipython2",
   "version": "2.7.6"
  }
 },
 "nbformat": 4,
 "nbformat_minor": 5
}
