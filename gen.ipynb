{
 "cells": [
  {
   "cell_type": "markdown",
   "source": [
    "# Genetic Algorithm\n",
    "\n",
    "Natural Selection based.\n",
    "\n",
    "Initial Population -> Fitness Function -> Selection -> Crossover -> Mutation \n",
    "\n",
    "https://levelup.gitconnected.com/how-to-implement-a-traveling-salesman-problem-genetic-algorithm-in-python-ea32c7bef20f"
   ],
   "metadata": {
    "collapsed": false
   },
   "id": "36877373970a8688"
  },
  {
   "cell_type": "code",
   "execution_count": 4,
   "outputs": [],
   "source": [
    "import random"
   ],
   "metadata": {
    "collapsed": false,
    "ExecuteTime": {
     "end_time": "2023-09-11T20:42:47.753692914Z",
     "start_time": "2023-09-11T20:42:47.738953887Z"
    }
   },
   "id": "b8d452a02196796d"
  },
  {
   "cell_type": "code",
   "execution_count": 6,
   "id": "initial_id",
   "metadata": {
    "collapsed": true,
    "ExecuteTime": {
     "end_time": "2023-09-11T20:50:09.785491947Z",
     "start_time": "2023-09-11T20:50:09.744505428Z"
    }
   },
   "outputs": [],
   "source": [
    "cities = [\n",
    "    'F',  # \"Fortaleza\",\n",
    "    'C',  # \"Caucaia\",\n",
    "    'J',  # \"Juazeiro do Norte\",\n",
    "    'M',  # \"Maracanaú\"\n",
    "    'S'  # \"SOBRAL\"\n",
    "]\n",
    "costs = [\n",
    "    [0, 10, 100, 50, 23],\n",
    "    [10, 0, 20, 20, 12],\n",
    "    [100, 20, 0, 10, 50],\n",
    "    [50, 20, 10, 0, 17],\n",
    "    [23, 12, 50, 17, 0]\n",
    "]\n",
    "\n",
    "# Idea: F -> C -> J -> M -> F"
   ]
  },
  {
   "cell_type": "code",
   "execution_count": 7,
   "outputs": [],
   "source": [
    "# Since we will always be back to initial state, doesn't seem smart to set start state inside the DNA  \n",
    "bases = \"1234\"  # == C J M"
   ],
   "metadata": {
    "collapsed": false,
    "ExecuteTime": {
     "end_time": "2023-09-11T20:50:10.340043284Z",
     "start_time": "2023-09-11T20:50:10.332187110Z"
    }
   },
   "id": "34aa465db7e58fa3"
  },
  {
   "cell_type": "code",
   "execution_count": 8,
   "outputs": [],
   "source": [
    "gene_example = \"1342\"  # = CMJ\n",
    "best_gene = \"123\"  # ?"
   ],
   "metadata": {
    "collapsed": false,
    "ExecuteTime": {
     "end_time": "2023-09-11T20:50:10.887830747Z",
     "start_time": "2023-09-11T20:50:10.885175770Z"
    }
   },
   "id": "f59da6c93cb8e439"
  },
  {
   "cell_type": "code",
   "execution_count": 11,
   "outputs": [],
   "source": [
    "def fitness(gene: str) -> int:\n",
    "    cost = 0\n",
    "    prev = 0\n",
    "    for dna in gene:\n",
    "        n = int(dna)\n",
    "        cost += costs[prev][n]\n",
    "        prev = dna\n",
    "\n",
    "    return cost"
   ],
   "metadata": {
    "collapsed": false,
    "ExecuteTime": {
     "end_time": "2023-09-11T20:50:31.810739548Z",
     "start_time": "2023-09-11T20:50:31.792832368Z"
    }
   },
   "id": "eb3ed10a7348501"
  },
  {
   "cell_type": "code",
   "execution_count": 12,
   "outputs": [],
   "source": [
    "random_gen = random.Random(1)\n",
    "\n",
    "\n",
    "def genesis(n: int) -> list[str]:\n",
    "    pop = []\n",
    "    for i in range(n):\n",
    "        dna = ''\n",
    "        for _ in range(len(bases)):\n",
    "            choice = random_gen.choice(bases)\n",
    "            dna += choice\n",
    "        pop.append(dna)\n",
    "\n",
    "    return pop"
   ],
   "metadata": {
    "collapsed": false,
    "ExecuteTime": {
     "end_time": "2023-09-11T20:50:32.243946643Z",
     "start_time": "2023-09-11T20:50:32.238455758Z"
    }
   },
   "id": "623ca97f24b5ec1c"
  },
  {
   "cell_type": "code",
   "execution_count": 15,
   "outputs": [],
   "source": [
    "def progenitor_selection(population_set: list[str], choice_p=.2, size=.5) -> list[tuple[str, str]]:\n",
    "    progenitors = []\n",
    "    valuable_progenitors = []\n",
    "    for gene in population_set:\n",
    "        v = fitness(gene)\n",
    "        valuable_progenitors.append((gene, v))\n",
    "\n",
    "    sorted_values = sorted(valuable_progenitors, key=lambda x: x[1])\n",
    "\n",
    "    random_gen.randint(0, len(sorted_values) - 1)\n",
    "    for gene, fit in sorted_values:\n",
    "        pass\n",
    "\n",
    "    return progenitors"
   ],
   "metadata": {
    "collapsed": false,
    "ExecuteTime": {
     "end_time": "2023-09-11T21:22:35.505991802Z",
     "start_time": "2023-09-11T21:22:35.496271500Z"
    }
   },
   "id": "c53ef9c47e131d52"
  },
  {
   "cell_type": "code",
   "execution_count": 15,
   "outputs": [],
   "source": [],
   "metadata": {
    "collapsed": false,
    "ExecuteTime": {
     "end_time": "2023-09-11T21:22:38.736753103Z",
     "start_time": "2023-09-11T21:22:38.729463633Z"
    }
   },
   "id": "ad3bf5e8c2d36bfa"
  },
  {
   "cell_type": "code",
   "execution_count": null,
   "outputs": [],
   "source": [],
   "metadata": {
    "collapsed": false
   },
   "id": "bb42779b69e7ad66"
  }
 ],
 "metadata": {
  "kernelspec": {
   "display_name": "Python 3",
   "language": "python",
   "name": "python3"
  },
  "language_info": {
   "codemirror_mode": {
    "name": "ipython",
    "version": 2
   },
   "file_extension": ".py",
   "mimetype": "text/x-python",
   "name": "python",
   "nbconvert_exporter": "python",
   "pygments_lexer": "ipython2",
   "version": "2.7.6"
  }
 },
 "nbformat": 4,
 "nbformat_minor": 5
}
