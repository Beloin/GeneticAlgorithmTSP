{
 "cells": [
  {
   "cell_type": "markdown",
   "source": [
    "# Genetic Algorithm\n",
    "\n",
    "Natural Selection based.\n",
    "\n",
    "Initial Population -> Fitness Function -> Selection -> Crossover -> Mutation "
   ],
   "metadata": {
    "collapsed": false
   },
   "id": "36877373970a8688"
  },
  {
   "cell_type": "code",
   "execution_count": 5,
   "id": "initial_id",
   "metadata": {
    "collapsed": true,
    "ExecuteTime": {
     "end_time": "2023-09-09T23:41:16.801352496Z",
     "start_time": "2023-09-09T23:41:16.755778770Z"
    }
   },
   "outputs": [],
   "source": [
    "cities = [\n",
    "    \"Fortaleza\",\n",
    "    \"Caucaia\",\n",
    "    \"Juazeiro do Norte\",\n",
    "    \"Maracanaú\"\n",
    "]\n",
    "costs = [\n",
    "    [0, 10, 100, 50],\n",
    "    [10, 0, 20, 20],\n",
    "    [100, 20, 0, 10],\n",
    "    [50, 20, 10, 0]\n",
    "]\n",
    "\n",
    "# Idea: F -> C -> J -> M -> F\n"
   ]
  },
  {
   "cell_type": "code",
   "execution_count": 6,
   "outputs": [],
   "source": [
    "# Since we will always be back to initial state, doesn't seem smart to set it inside the DNA  \n",
    "dna = \"CJM\"  # do this for every initial letter?"
   ],
   "metadata": {
    "collapsed": false,
    "ExecuteTime": {
     "end_time": "2023-09-09T23:41:18.078852939Z",
     "start_time": "2023-09-09T23:41:18.075290047Z"
    }
   },
   "id": "34aa465db7e58fa3"
  },
  {
   "cell_type": "code",
   "execution_count": null,
   "outputs": [],
   "source": [
    "gene_example = \"CMJ\"\n",
    "best_gene = \"CJM\" "
   ],
   "metadata": {
    "collapsed": false
   },
   "id": "f59da6c93cb8e439"
  }
 ],
 "metadata": {
  "kernelspec": {
   "display_name": "Python 3",
   "language": "python",
   "name": "python3"
  },
  "language_info": {
   "codemirror_mode": {
    "name": "ipython",
    "version": 2
   },
   "file_extension": ".py",
   "mimetype": "text/x-python",
   "name": "python",
   "nbconvert_exporter": "python",
   "pygments_lexer": "ipython2",
   "version": "2.7.6"
  }
 },
 "nbformat": 4,
 "nbformat_minor": 5
}
